{
  "cells": [
    {
      "cell_type": "markdown",
      "source": [
        "# Introduction To Data Science – Assignment 2\n",
        "\n",
        "---\n",
        "\n",
        "#### Sections A – B – C – D\n",
        "\n",
        "---\n",
        "\n",
        "##***Instructions: Read These Carefully Before Starting!***\n",
        "\n",
        "1. Due Date: Thursday 20th October 2022 – 11:59PM\n",
        "\n",
        "2. **Name the file in the format Lyyxxxx_A2.ipynb and save it as .ipynb (e.g. L216666_A2.ipynb)**\n",
        "\n",
        "3. Submission will be taken on Google Classroom (**submit SINGLE .ipynb file ONLY**)\n",
        "\n",
        "4. **Assignment will not be evaluated if**:\n",
        "\n",
        "> * You submit python (.py) files\n",
        "> * You submit multiple .ipynb files\n",
        "> * You submit compressed (.rar or .zip) files\n",
        "\n",
        "5. **Work in the spaces provided and do not delete/modify any cells from this template.**\n",
        "\n",
        "6. Upload data files directly to Google Colab - do not use Google Drive or GitHub linking method\n",
        "\n",
        "*Not following these instructions will lead to mark deduction.*\n",
        "\n",
        "---\n",
        "\n",
        "All source files needed to complete this assignment can be found on the following [Google Drive link](https://drive.google.com/drive/folders/1qBib_6ZOhvHb73ZRLWiCMWl9NFyU1IDO?usp=sharing). Download these files and upload them to your Google Colab Notebook. \n",
        "\n",
        "**Do not link Google Drive or GitHub with Colab.**\n",
        "\n",
        "**Do not add these files with your submission on Google Classroom.**\n",
        "\n",
        "---\n",
        "\n",
        "Happy Coding 🌺\n",
        "\n",
        "---\n",
        "\n",
        "TA Emails\n",
        "\n",
        "Section A, C - Muhammad Maarij l192347@lhr.nu.edu.pk\n",
        "\n",
        "Section B, D - Hira Ijaz l192377@lhr.nu.edu.pk\n",
        "\n",
        "---"
      ],
      "metadata": {
        "id": "TWWLTwYZorzC"
      }
    },
    {
      "cell_type": "markdown",
      "source": [
        "---\n",
        "## Question 0\n",
        "\n",
        "Add all library imports here"
      ],
      "metadata": {
        "id": "mwtAOew56gkd"
      }
    },
    {
      "cell_type": "code",
      "source": [
        "import numpy as np  # used to work in arrays\n",
        "import pandas as pd # used to work on dataframes and manupilating different datsets\n",
        "import matplotlib.pyplot as plt #  used for creating static, animated, and interactive visualizations\n",
        "from sklearn.model_selection import train_test_split # used to split arrays or matrices into random train and test subsets\n",
        "from sklearn.preprocessing import StandardScaler # used to standardize features by removing the mean and scaling to unit variance\n",
        "from sklearn.linear_model import LogisticRegression # used to implement regularized logistic regression\n",
        "from sklearn import metrics # used to implement several loss, score, and utility functions to measure classification performances\n",
        "import seaborn as sns #used for making statistical graphics in Python\n",
        "from sklearn.metrics import balanced_accuracy_score # function used to find accuracy\n",
        "from sklearn.metrics import recall_score # function used to find recall\n",
        "from sklearn.metrics import precision_score # function used to find precision\n",
        "from sklearn.metrics import f1_score # function used to find f_score"
      ],
      "metadata": {
        "id": "swlE8Tvq6g2u"
      },
      "execution_count": null,
      "outputs": []
    },
    {
      "cell_type": "markdown",
      "metadata": {
        "id": "ZR8C9ctqsy3V"
      },
      "source": [
        "---\n",
        "## Question 1\n",
        "\n",
        "####Single Linear Regression with Gradient Descent\n",
        "\n",
        "> Take help from slides 26 and 30\n",
        "---"
      ]
    },
    {
      "cell_type": "markdown",
      "metadata": {
        "id": "DzGOilP7sy3Y"
      },
      "source": [
        "**Part A -**\n",
        "Write a function that calculates and returns value for hypothesis $h_\\theta(x)$"
      ]
    },
    {
      "cell_type": "code",
      "execution_count": null,
      "metadata": {
        "collapsed": true,
        "id": "3bczSIhosy3Z"
      },
      "outputs": [],
      "source": [
        "# complete this function implementation\n",
        "def hypothesis(x, theta): # hypothesis function definition\n",
        "  return theta[0] + theta[1]*x"
      ]
    },
    {
      "cell_type": "markdown",
      "metadata": {
        "id": "dXORHsxSsy3a"
      },
      "source": [
        "**Part B -**\n",
        "Write a function that calculates and returns value for loss/cost $J(\\theta_0, \\theta_1)$"
      ]
    },
    {
      "cell_type": "code",
      "execution_count": null,
      "metadata": {
        "collapsed": true,
        "id": "__DPftoLsy3c"
      },
      "outputs": [],
      "source": [
        "# complete this function implementation\n",
        "def loss(hypothesis_x, y): #loss function definition\n",
        "  m=len(hypothesis_x) # total data length\n",
        "  loss=(1/2*m) * np.sum((hypothesis_x - y)**2) # loss value\n",
        "  return loss\n"
      ]
    },
    {
      "cell_type": "markdown",
      "metadata": {
        "id": "WjWa6pMGsy3d"
      },
      "source": [
        "**Part C-**\n",
        "Write a function that applies the gradient descent algorithm and updates values of $\\theta_0$ and $\\theta_1$ until they converge.\n",
        "\n",
        "* take default vaue of $α$ to be 0.015\n",
        "* take default number of iterations to be 15000\n",
        "* print loss after every 500 iterations"
      ]
    },
    {
      "cell_type": "code",
      "execution_count": null,
      "metadata": {
        "collapsed": true,
        "id": "U7qtzuCWsy3e"
      },
      "outputs": [],
      "source": [
        "# complete this function implementation\n",
        "def gradientDescent(x, y, theta, numIterations=15000, alpha=0.015): # Gradient descent function definition\n",
        "  m=len(x) # total length of data x\n",
        "  i=0\n",
        "  y_pred=y\n",
        "  while i < numIterations: # repeat until convergence\n",
        "      theta[0] -= alpha *((1/m)* sum(hypothesis(x, theta)-y_pred)) # theta[0]\n",
        "      theta[1] -= alpha *((1/m)* (sum((hypothesis(x, theta)-y_pred) * x))) # theta[1]\n",
        "      i+=1 # iterator\n",
        "      # printing cost after every 500 iterations\n",
        "      if i%500==0:\n",
        "        print(f'Scaled data for iteration {i}',f'is : {loss(hypothesis(x, theta),y_pred)}') # print cost as required\n",
        "\n"
      ]
    },
    {
      "cell_type": "markdown",
      "metadata": {
        "id": "0zwvS5cqsy3g"
      },
      "source": [
        "**Part D -**\n",
        "FactoryRevenue.csv contains information about the number of workers in a factory and the annual profit for that factory. Import the file FactoryRevenue.csv as a Pandas DataSet and print out the information for it."
      ]
    },
    {
      "cell_type": "code",
      "execution_count": null,
      "metadata": {
        "collapsed": true,
        "id": "Uef-aGHisy3h",
        "colab": {
          "base_uri": "https://localhost:8080/"
        },
        "outputId": "10219f69-7ad1-46ad-cd10-1a0527b39bf0"
      },
      "outputs": [
        {
          "output_type": "stream",
          "name": "stdout",
          "text": [
            "<class 'pandas.core.frame.DataFrame'>\n",
            "RangeIndex: 99 entries, 0 to 98\n",
            "Data columns (total 2 columns):\n",
            " #   Column               Non-Null Count  Dtype  \n",
            "---  ------               --------------  -----  \n",
            " 0   TotalFactoryWorkers  98 non-null     float64\n",
            " 1   AnnualProfit         98 non-null     float64\n",
            "dtypes: float64(2)\n",
            "memory usage: 1.7 KB\n",
            "None\n"
          ]
        }
      ],
      "source": [
        "data = pd.read_csv('Update_FactoryRevenue.csv') # Updated Factory Revenue file read using read_csv\n",
        "print(data.info()) # Printing Information as required"
      ]
    },
    {
      "cell_type": "markdown",
      "metadata": {
        "id": "yv9_dDiw65o8"
      },
      "source": [
        "**Part E -**\n",
        "Remove rows that have any null values"
      ]
    },
    {
      "cell_type": "code",
      "source": [
        "print(f'Rows before removing null entries : {data.isnull().sum().sum()}') # null values before\n",
        "data.dropna(inplace=True) # removing null values as required\n",
        "print(f'Rows After removing null entries : {data.isnull().sum().sum()}') # null values after"
      ],
      "metadata": {
        "id": "l50u9HZx7H5t",
        "colab": {
          "base_uri": "https://localhost:8080/"
        },
        "outputId": "d045f76b-b463-444c-a6e5-73321d13c3cc"
      },
      "execution_count": null,
      "outputs": [
        {
          "output_type": "stream",
          "name": "stdout",
          "text": [
            "Rows before removing null entries : 2\n",
            "Rows After removing null entries : 0\n"
          ]
        }
      ]
    },
    {
      "cell_type": "markdown",
      "metadata": {
        "id": "u0Y68nh87HJX"
      },
      "source": [
        "**Part F -**\n",
        "\n",
        "First identify the independant and dependant variables. \n",
        "\n",
        "Then create two arrays named x and y and add independant variable data to array x, dependant variable data to array y."
      ]
    },
    {
      "cell_type": "code",
      "source": [
        "# independant variable: Total Factory Workers as (X)\n",
        "print(\"Independant variable: Total Factory Workers as (X)\")\n",
        "# dependant variable: Annual Profit as (Y)\n",
        "print(\"Dependant variable: Annual Profit as (Y)\")"
      ],
      "metadata": {
        "id": "m49bbkSy7xxp",
        "colab": {
          "base_uri": "https://localhost:8080/"
        },
        "outputId": "c7736069-a3ef-44cd-a8cb-17c41bdf69a1"
      },
      "execution_count": null,
      "outputs": [
        {
          "output_type": "stream",
          "name": "stdout",
          "text": [
            "Independant variable: Total Factory Workers as (X)\n",
            "Dependant variable: Annual Profit as (Y)\n"
          ]
        }
      ]
    },
    {
      "cell_type": "markdown",
      "metadata": {
        "id": "8vRXmn9z8H4q"
      },
      "source": [
        "**Part G -** \n",
        "\n",
        "Create an array called 'theta' that will hold $θ_0$ and $θ_1$. Initalize both values to 0.\n",
        "\n",
        "Then call the gradientDescent function using array x, array y, and array theta. Do not provide any other input parameters.\n",
        "\n",
        "Print out the values of y-intercept and slope/gradient"
      ]
    },
    {
      "cell_type": "code",
      "source": [
        "theta=[0,0] # declaring theta as required\n",
        "XFact= data[\"TotalFactoryWorkers\"] # assigning data columns\n",
        "YAnnual= data[\"AnnualProfit\"] # assigning data columns\n",
        "gradientDescent(XFact,YAnnual,theta) # gradient descent function\n",
        "print(f'Intercept is : {theta[0]}') # Priting Intercept as required\n",
        "print(f'Slope is :  {theta[1]}') # Printing Slope as required"
      ],
      "metadata": {
        "id": "e7nBeh3b9KXK",
        "colab": {
          "base_uri": "https://localhost:8080/"
        },
        "outputId": "89109c49-e500-406b-9e56-4fc15a32a251"
      },
      "execution_count": null,
      "outputs": [
        {
          "output_type": "stream",
          "name": "stdout",
          "text": [
            "Scaled data for iteration 500 is : 42997.60211371196\n",
            "Scaled data for iteration 1000 is : 42180.18923887853\n",
            "Scaled data for iteration 1500 is : 42127.459697401326\n",
            "Scaled data for iteration 2000 is : 42124.05822841302\n",
            "Scaled data for iteration 2500 is : 42123.83880698521\n",
            "Scaled data for iteration 3000 is : 42123.824652582174\n",
            "Scaled data for iteration 3500 is : 42123.823739512154\n",
            "Scaled data for iteration 4000 is : 42123.823680611975\n",
            "Scaled data for iteration 4500 is : 42123.823676812455\n",
            "Scaled data for iteration 5000 is : 42123.82367656736\n",
            "Scaled data for iteration 5500 is : 42123.82367655155\n",
            "Scaled data for iteration 6000 is : 42123.823676550535\n",
            "Scaled data for iteration 6500 is : 42123.82367655046\n",
            "Scaled data for iteration 7000 is : 42123.82367655045\n",
            "Scaled data for iteration 7500 is : 42123.823676550455\n",
            "Scaled data for iteration 8000 is : 42123.82367655046\n",
            "Scaled data for iteration 8500 is : 42123.823676550455\n",
            "Scaled data for iteration 9000 is : 42123.823676550455\n",
            "Scaled data for iteration 9500 is : 42123.82367655045\n",
            "Scaled data for iteration 10000 is : 42123.823676550455\n",
            "Scaled data for iteration 10500 is : 42123.823676550455\n",
            "Scaled data for iteration 11000 is : 42123.82367655046\n",
            "Scaled data for iteration 11500 is : 42123.82367655045\n",
            "Scaled data for iteration 12000 is : 42123.82367655045\n",
            "Scaled data for iteration 12500 is : 42123.82367655045\n",
            "Scaled data for iteration 13000 is : 42123.82367655045\n",
            "Scaled data for iteration 13500 is : 42123.82367655045\n",
            "Scaled data for iteration 14000 is : 42123.82367655045\n",
            "Scaled data for iteration 14500 is : 42123.82367655045\n",
            "Scaled data for iteration 15000 is : 42123.82367655045\n",
            "Intercept is : -3.895780878311771\n",
            "Slope is :  1.1930336441895852\n"
          ]
        }
      ]
    },
    {
      "cell_type": "markdown",
      "metadata": {
        "id": "lksKYteB9NOx"
      },
      "source": [
        "**Part H -** Plot a scatter plot and regression line on the same graph"
      ]
    },
    {
      "cell_type": "code",
      "source": [
        "plt.scatter(data['TotalFactoryWorkers'],data['AnnualProfit'],color='blue') # scatter plot as required\n",
        "X_c=data['TotalFactoryWorkers'] # assigning data columns for regression line plot\n",
        "Y_c=theta[0]+theta[1]*X_c # calculating y using straight line equation\n",
        "plt.plot(X_c,Y_c,color='red') # Regression line plot as required\n",
        "plt.grid(color = 'black', linestyle = '--', linewidth = 1) # Grid for better visualisation\n",
        "plt.xlabel('Total Factory Workers',size=10,weight='bold') # x lable\n",
        "plt.ylabel('Annual Profit',size=10,weight='bold') # y label\n",
        "plt.title('Plotting between Factory Revenue and Annual Profit',size=12,weight='bold') # title of the plotting"
      ],
      "metadata": {
        "id": "Jdah8R6L9XSl",
        "colab": {
          "base_uri": "https://localhost:8080/",
          "height": 312
        },
        "outputId": "bf487c35-4087-4b3e-e484-5846cafdc7d9"
      },
      "execution_count": null,
      "outputs": [
        {
          "output_type": "execute_result",
          "data": {
            "text/plain": [
              "Text(0.5, 1.0, 'Plotting between Factory Revenue and Annual Profit')"
            ]
          },
          "metadata": {},
          "execution_count": 78
        },
        {
          "output_type": "display_data",
          "data": {
            "text/plain": [
              "<Figure size 432x288 with 1 Axes>"
            ],
            "image/png": "[encoded data removed]"
          },
          "metadata": {
            "needs_background": "light"
          }
        }
      ]
    },
    {
      "cell_type": "markdown",
      "source": [
        "---\n",
        "## Question 2\n",
        "\n",
        "Logistic Regression on Flowers Dataset\n",
        "\n",
        "---\n",
        "\n"
      ],
      "metadata": {
        "id": "upsln2T-38-M"
      }
    },
    {
      "cell_type": "markdown",
      "source": [
        "**Part A** - Load the file FlowersData.csv and describe the dataset"
      ],
      "metadata": {
        "id": "plh_l8AV4MU5"
      }
    },
    {
      "cell_type": "code",
      "source": [
        "data = pd.read_csv('FlowersData.csv') # Flower Dataset Read as required\n",
        "data.dropna(inplace=True) # best practice to filter data\n",
        "percentile =[.20, .40, .60, .80] # different percentiles of same data\n",
        "datatypes =['object', 'float', 'int'] # datatype that can be in our dataset\n",
        "describe=data.describe(percentiles=percentile,include=datatypes) # describing data as required\n",
        "describe # printing described dataset"
      ],
      "metadata": {
        "id": "p7Cgq8di3771",
        "colab": {
          "base_uri": "https://localhost:8080/",
          "height": 457
        },
        "outputId": "155380d3-a01c-4dee-cba9-bbd86365717e"
      },
      "execution_count": null,
      "outputs": [
        {
          "output_type": "execute_result",
          "data": {
            "text/plain": [
              "        sepal_length  sepal_width  petal_length  petal_width flower_name\n",
              "count     150.000000   150.000000    150.000000   150.000000         150\n",
              "unique           NaN          NaN           NaN          NaN           3\n",
              "top              NaN          NaN           NaN          NaN    hibiscus\n",
              "freq             NaN          NaN           NaN          NaN          50\n",
              "mean        5.843333     3.054000      3.758667     1.198667         NaN\n",
              "std         0.828066     0.433594      1.764420     0.763161         NaN\n",
              "min         4.300000     2.000000      1.000000     0.100000         NaN\n",
              "20%         5.000000     2.700000      1.500000     0.200000         NaN\n",
              "40%         5.600000     3.000000      3.900000     1.160000         NaN\n",
              "50%         5.800000     3.000000      4.350000     1.300000         NaN\n",
              "60%         6.100000     3.100000      4.640000     1.500000         NaN\n",
              "80%         6.520000     3.400000      5.320000     1.900000         NaN\n",
              "max         7.900000     4.400000      6.900000     2.500000         NaN"
            ],
            "text/html": [
              "\n",
              "  <div id=\"df-eeb633aa-d46c-40c9-8e40-1740f694e772\">\n",
              "    <div class=\"colab-df-container\">\n",
              "      <div>\n",
              "<style scoped>\n",
              "    .dataframe tbody tr th:only-of-type {\n",
              "        vertical-align: middle;\n",
              "    }\n",
              "\n",
              "    .dataframe tbody tr th {\n",
              "        vertical-align: top;\n",
              "    }\n",
              "\n",
              "    .dataframe thead th {\n",
              "        text-align: right;\n",
              "    }\n",
              "</style>\n",
              "<table border=\"1\" class=\"dataframe\">\n",
              "  <thead>\n",
              "    <tr style=\"text-align: right;\">\n",
              "      <th></th>\n",
              "      <th>sepal_length</th>\n",
              "      <th>sepal_width</th>\n",
              "      <th>petal_length</th>\n",
              "      <th>petal_width</th>\n",
              "      <th>flower_name</th>\n",
              "    </tr>\n",
              "  </thead>\n",
              "  <tbody>\n",
              "    <tr>\n",
              "      <th>count</th>\n",
              "      <td>150.000000</td>\n",
              "      <td>150.000000</td>\n",
              "      <td>150.000000</td>\n",
              "      <td>150.000000</td>\n",
              "      <td>150</td>\n",
              "    </tr>\n",
              "    <tr>\n",
              "      <th>unique</th>\n",
              "      <td>NaN</td>\n",
              "      <td>NaN</td>\n",
              "      <td>NaN</td>\n",
              "      <td>NaN</td>\n",
              "      <td>3</td>\n",
              "    </tr>\n",
              "    <tr>\n",
              "      <th>top</th>\n",
              "      <td>NaN</td>\n",
              "      <td>NaN</td>\n",
              "      <td>NaN</td>\n",
              "      <td>NaN</td>\n",
              "      <td>hibiscus</td>\n",
              "    </tr>\n",
              "    <tr>\n",
              "      <th>freq</th>\n",
              "      <td>NaN</td>\n",
              "      <td>NaN</td>\n",
              "      <td>NaN</td>\n",
              "      <td>NaN</td>\n",
              "      <td>50</td>\n",
              "    </tr>\n",
              "    <tr>\n",
              "      <th>mean</th>\n",
              "      <td>5.843333</td>\n",
              "      <td>3.054000</td>\n",
              "      <td>3.758667</td>\n",
              "      <td>1.198667</td>\n",
              "      <td>NaN</td>\n",
              "    </tr>\n",
              "    <tr>\n",
              "      <th>std</th>\n",
              "      <td>0.828066</td>\n",
              "      <td>0.433594</td>\n",
              "      <td>1.764420</td>\n",
              "      <td>0.763161</td>\n",
              "      <td>NaN</td>\n",
              "    </tr>\n",
              "    <tr>\n",
              "      <th>min</th>\n",
              "      <td>4.300000</td>\n",
              "      <td>2.000000</td>\n",
              "      <td>1.000000</td>\n",
              "      <td>0.100000</td>\n",
              "      <td>NaN</td>\n",
              "    </tr>\n",
              "    <tr>\n",
              "      <th>20%</th>\n",
              "      <td>5.000000</td>\n",
              "      <td>2.700000</td>\n",
              "      <td>1.500000</td>\n",
              "      <td>0.200000</td>\n",
              "      <td>NaN</td>\n",
              "    </tr>\n",
              "    <tr>\n",
              "      <th>40%</th>\n",
              "      <td>5.600000</td>\n",
              "      <td>3.000000</td>\n",
              "      <td>3.900000</td>\n",
              "      <td>1.160000</td>\n",
              "      <td>NaN</td>\n",
              "    </tr>\n",
              "    <tr>\n",
              "      <th>50%</th>\n",
              "      <td>5.800000</td>\n",
              "      <td>3.000000</td>\n",
              "      <td>4.350000</td>\n",
              "      <td>1.300000</td>\n",
              "      <td>NaN</td>\n",
              "    </tr>\n",
              "    <tr>\n",
              "      <th>60%</th>\n",
              "      <td>6.100000</td>\n",
              "      <td>3.100000</td>\n",
              "      <td>4.640000</td>\n",
              "      <td>1.500000</td>\n",
              "      <td>NaN</td>\n",
              "    </tr>\n",
              "    <tr>\n",
              "      <th>80%</th>\n",
              "      <td>6.520000</td>\n",
              "      <td>3.400000</td>\n",
              "      <td>5.320000</td>\n",
              "      <td>1.900000</td>\n",
              "      <td>NaN</td>\n",
              "    </tr>\n",
              "    <tr>\n",
              "      <th>max</th>\n",
              "      <td>7.900000</td>\n",
              "      <td>4.400000</td>\n",
              "      <td>6.900000</td>\n",
              "      <td>2.500000</td>\n",
              "      <td>NaN</td>\n",
              "    </tr>\n",
              "  </tbody>\n",
              "</table>\n",
              "</div>\n",
              "      <button class=\"colab-df-convert\" onclick=\"convertToInteractive('df-eeb633aa-d46c-40c9-8e40-1740f694e772')\"\n",
              "              title=\"Convert this dataframe to an interactive table.\"\n",
              "              style=\"display:none;\">\n",
              "        \n",
              "  <svg xmlns=\"http://www.w3.org/2000/svg\" height=\"24px\"viewBox=\"0 0 24 24\"\n",
              "       width=\"24px\">\n",
              "    <path d=\"M0 0h24v24H0V0z\" fill=\"none\"/>\n",
              "    <path d=\"M18.56 5.44l.94 2.06.94-2.06 2.06-.94-2.06-.94-.94-2.06-.94 2.06-2.06.94zm-11 1L8.5 8.5l.94-2.06 2.06-.94-2.06-.94L8.5 2.5l-.94 2.06-2.06.94zm10 10l.94 2.06.94-2.06 2.06-.94-2.06-.94-.94-2.06-.94 2.06-2.06.94z\"/><path d=\"M17.41 7.96l-1.37-1.37c-.4-.4-.92-.59-1.43-.59-.52 0-1.04.2-1.43.59L10.3 9.45l-7.72 7.72c-.78.78-.78 2.05 0 2.83L4 21.41c.39.39.9.59 1.41.59.51 0 1.02-.2 1.41-.59l7.78-7.78 2.81-2.81c.8-.78.8-2.07 0-2.86zM5.41 20L4 18.59l7.72-7.72 1.47 1.35L5.41 20z\"/>\n",
              "  </svg>\n",
              "      </button>\n",
              "      \n",
              "  <style>\n",
              "    .colab-df-container {\n",
              "      display:flex;\n",
              "      flex-wrap:wrap;\n",
              "      gap: 12px;\n",
              "    }\n",
              "\n",
              "    .colab-df-convert {\n",
              "      background-color: #E8F0FE;\n",
              "      border: none;\n",
              "      border-radius: 50%;\n",
              "      cursor: pointer;\n",
              "      display: none;\n",
              "      fill: #1967D2;\n",
              "      height: 32px;\n",
              "      padding: 0 0 0 0;\n",
              "      width: 32px;\n",
              "    }\n",
              "\n",
              "    .colab-df-convert:hover {\n",
              "      background-color: #E2EBFA;\n",
              "      box-shadow: 0px 1px 2px rgba(60, 64, 67, 0.3), 0px 1px 3px 1px rgba(60, 64, 67, 0.15);\n",
              "      fill: #174EA6;\n",
              "    }\n",
              "\n",
              "    [theme=dark] .colab-df-convert {\n",
              "      background-color: #3B4455;\n",
              "      fill: #D2E3FC;\n",
              "    }\n",
              "\n",
              "    [theme=dark] .colab-df-convert:hover {\n",
              "      background-color: #434B5C;\n",
              "      box-shadow: 0px 1px 3px 1px rgba(0, 0, 0, 0.15);\n",
              "      filter: drop-shadow(0px 1px 2px rgba(0, 0, 0, 0.3));\n",
              "      fill: #FFFFFF;\n",
              "    }\n",
              "  </style>\n",
              "\n",
              "      <script>\n",
              "        const buttonEl =\n",
              "          document.querySelector('#df-eeb633aa-d46c-40c9-8e40-1740f694e772 button.colab-df-convert');\n",
              "        buttonEl.style.display =\n",
              "          google.colab.kernel.accessAllowed ? 'block' : 'none';\n",
              "\n",
              "        async function convertToInteractive(key) {\n",
              "          const element = document.querySelector('#df-eeb633aa-d46c-40c9-8e40-1740f694e772');\n",
              "          const dataTable =\n",
              "            await google.colab.kernel.invokeFunction('convertToInteractive',\n",
              "                                                     [key], {});\n",
              "          if (!dataTable) return;\n",
              "\n",
              "          const docLinkHtml = 'Like what you see? Visit the ' +\n",
              "            '<a target=\"_blank\" href=https://colab.research.google.com/notebooks/data_table.ipynb>data table notebook</a>'\n",
              "            + ' to learn more about interactive tables.';\n",
              "          element.innerHTML = '';\n",
              "          dataTable['output_type'] = 'display_data';\n",
              "          await google.colab.output.renderOutput(dataTable, element);\n",
              "          const docLink = document.createElement('div');\n",
              "          docLink.innerHTML = docLinkHtml;\n",
              "          element.appendChild(docLink);\n",
              "        }\n",
              "      </script>\n",
              "    </div>\n",
              "  </div>\n",
              "  "
            ]
          },
          "metadata": {},
          "execution_count": 79
        }
      ]
    },
    {
      "cell_type": "markdown",
      "source": [
        "**Part B** - Split data into training and test data using SKLearn train_test_split. Specify parameter test_size to be 25%\n",
        "\n",
        "Hint: You will be needing 4 arrays: X_train, X_test, y_train, y_test"
      ],
      "metadata": {
        "id": "7LsiIV9n4QMz"
      }
    },
    {
      "cell_type": "code",
      "source": [
        "Xcols=data[data.columns[0:4]] # All columns except lable in X\n",
        "Ylables=data['flower_name'] # Label column containing flower names in Y\n",
        "X_train, X_test, y_train, y_test = train_test_split(Xcols,Ylables,test_size=0.25) # function for spliting data into Testing/Training\n",
        "print(\"X_train shape: \",(X_train.shape)) # X_train\n",
        "print(\"X_test  shape: \",(X_test.shape)) # X_test\n",
        "print(\"y_train shape: \",(y_train.shape[0])) # y_train\n",
        "print(\"y_test  shape: \",(y_test.shape[0])) # y_test"
      ],
      "metadata": {
        "id": "f49YQ4GT4k5s",
        "colab": {
          "base_uri": "https://localhost:8080/"
        },
        "outputId": "9b9e1958-0936-4cfc-8445-ec2c141e2436"
      },
      "execution_count": null,
      "outputs": [
        {
          "output_type": "stream",
          "name": "stdout",
          "text": [
            "X_train shape:  (112, 4)\n",
            "X_test  shape:  (38, 4)\n",
            "y_train shape:  112\n",
            "y_test  shape:  38\n"
          ]
        }
      ]
    },
    {
      "cell_type": "markdown",
      "source": [
        "**Part C** - Perform scaling on the X_test and X_train values using StandardScacler from SKLearn Library"
      ],
      "metadata": {
        "id": "Ez5Fa2ePDzXu"
      }
    },
    {
      "cell_type": "code",
      "source": [
        "scaled=StandardScaler() # built-in function call for scaling\n",
        "X_train=scaled.fit_transform(X_train) # scaled data of X_train\n",
        "X_test=scaled.fit_transform(X_test) # scaled data of X_test\n",
        "print(f'         Standard values for X_train : \\n {X_train} \\n\\n',f'          Standard values for X_test : \\n {X_test}') # printing scaled data "
      ],
      "metadata": {
        "id": "97-2bUgtDzXv",
        "colab": {
          "base_uri": "https://localhost:8080/"
        },
        "outputId": "c494e757-824a-4871-b6c6-70c466908568"
      },
      "execution_count": null,
      "outputs": [
        {
          "output_type": "stream",
          "name": "stdout",
          "text": [
            "         Standard values for X_train : \n",
            " [[-1.25126357e+00  7.24360541e-01 -1.00750230e+00 -1.25804494e+00]\n",
            " [ 3.00559051e-01 -1.11424299e+00  1.06759190e+00  3.08973040e-01]\n",
            " [-8.93150655e-01  1.64366231e+00 -1.17575318e+00 -1.25804494e+00]\n",
            " [ 1.13615584e+00  2.64709660e-01  1.23584278e+00  1.48423653e+00]\n",
            " [ 6.18171098e-02 -1.94941222e-01  2.82421121e-01  4.39557872e-01]\n",
            " [-1.72874745e+00 -1.94941222e-01 -1.34400406e+00 -1.25804494e+00]\n",
            " [ 5.39300992e-01 -1.80371931e+00  3.94588375e-01  1.78388208e-01]\n",
            " [-1.13189260e+00 -1.94941222e-01 -1.28792043e+00 -1.25804494e+00]\n",
            " [ 1.01678487e+00  3.48842187e-02  3.94588375e-01  3.08973040e-01]\n",
            " [ 1.01678487e+00  3.48842187e-02  1.06759190e+00  1.61482136e+00]\n",
            " [-1.01252163e+00  4.94535101e-01 -1.28792043e+00 -1.25804494e+00]\n",
            " [-5.35037743e-01  1.41383686e+00 -1.23183681e+00 -1.25804494e+00]\n",
            " [-5.75538608e-02 -8.84417545e-01  1.14170241e-01  4.78033760e-02]\n",
            " [-1.25126357e+00 -1.94941222e-01 -1.28792043e+00 -1.38862978e+00]\n",
            " [ 1.37489779e+00  2.64709660e-01  5.62839256e-01  3.08973040e-01]\n",
            " [-1.76924831e-01  3.02261495e+00 -1.23183681e+00 -9.96875280e-01]\n",
            " [-2.96295802e-01 -1.94941222e-01  2.26337494e-01  1.78388208e-01]\n",
            " [-2.96295802e-01 -6.54592104e-01  6.75006510e-01  1.09248203e+00]\n",
            " [-7.73779684e-01  2.33313863e+00 -1.23183681e+00 -1.38862978e+00]\n",
            " [-5.75538608e-02 -8.84417545e-01  7.87173764e-01  9.61897200e-01]\n",
            " [-5.75538608e-02 -1.11424299e+00  1.70253868e-01  4.78033760e-02]\n",
            " [-7.73779684e-01  9.54185982e-01 -1.23183681e+00 -1.25804494e+00]\n",
            " [ 4.19930021e-01 -4.24766663e-01  3.38504748e-01  1.78388208e-01]\n",
            " [ 2.21049458e+00 -1.94941222e-01  1.34801003e+00  1.48423653e+00]\n",
            " [ 2.21049458e+00 -1.11424299e+00  1.79667905e+00  1.48423653e+00]\n",
            " [-1.13189260e+00  3.48842187e-02 -1.23183681e+00 -1.38862978e+00]\n",
            " [ 8.97413904e-01 -4.24766663e-01  5.06755629e-01  1.78388208e-01]\n",
            " [-1.76924831e-01 -1.94941222e-01  2.82421121e-01  4.78033760e-02]\n",
            " [-5.35037743e-01  1.87348775e+00 -1.11966955e+00 -9.96875280e-01]\n",
            " [ 5.39300992e-01 -1.34406843e+00  7.31090137e-01  9.61897200e-01]\n",
            " [ 1.81188080e-01 -8.84417545e-01  7.87173764e-01  5.70142704e-01]\n",
            " [-1.25126357e+00  7.24360541e-01 -1.17575318e+00 -1.25804494e+00]\n",
            " [-4.15666773e-01  2.56296407e+00 -1.28792043e+00 -1.25804494e+00]\n",
            " [-7.73779684e-01 -8.84417545e-01  1.14170241e-01  3.08973040e-01]\n",
            " [ 1.13615584e+00 -6.54592104e-01  6.18922883e-01  3.08973040e-01]\n",
            " [ 5.39300992e-01 -1.34406843e+00  6.75006510e-01  4.39557872e-01]\n",
            " [ 1.61363973e+00  2.64709660e-01  1.29192641e+00  8.31312368e-01]\n",
            " [-1.01252163e+00  9.54185982e-01 -1.34400406e+00 -1.12746011e+00]\n",
            " [ 1.01678487e+00 -1.34406843e+00  1.17975915e+00  8.31312368e-01]\n",
            " [ 2.09112361e+00 -1.94941222e-01  1.62842817e+00  1.22306686e+00]\n",
            " [ 8.97413904e-01 -1.94941222e-01  3.94588375e-01  3.08973040e-01]\n",
            " [-1.76924831e-01  1.64366231e+00 -1.11966955e+00 -1.12746011e+00]\n",
            " [-1.01252163e+00  9.54185982e-01 -1.17575318e+00 -7.35705616e-01]\n",
            " [-5.35037743e-01 -1.94941222e-01  4.50672002e-01  4.39557872e-01]\n",
            " [-5.75538608e-02 -6.54592104e-01  7.87173764e-01  1.61482136e+00]\n",
            " [ 1.01678487e+00 -1.94941222e-01  7.31090137e-01  7.00727536e-01]\n",
            " [-4.15666773e-01 -1.57389387e+00  2.00298668e-03 -2.13366288e-01]\n",
            " [-1.01252163e+00 -1.94941222e-01 -1.17575318e+00 -1.25804494e+00]\n",
            " [-5.75538608e-02 -8.84417545e-01  7.87173764e-01  9.61897200e-01]\n",
            " [-1.13189260e+00 -1.34406843e+00  4.50672002e-01  7.00727536e-01]\n",
            " [-8.93150655e-01  1.64366231e+00 -1.23183681e+00 -1.12746011e+00]\n",
            " [-5.35037743e-01  7.24360541e-01 -1.11966955e+00 -1.25804494e+00]\n",
            " [ 6.58671963e-01  2.64709660e-01  8.99341018e-01  1.48423653e+00]\n",
            " [-1.01252163e+00  1.18401142e+00 -1.28792043e+00 -1.25804494e+00]\n",
            " [ 1.25552682e+00  3.48842187e-02  9.55424645e-01  1.22306686e+00]\n",
            " [ 6.18171098e-02 -1.94941222e-01  7.87173764e-01  8.31312368e-01]\n",
            " [-4.15666773e-01 -1.34406843e+00  1.70253868e-01  1.78388208e-01]\n",
            " [-2.96295802e-01 -1.94941222e-01  4.50672002e-01  4.39557872e-01]\n",
            " [-8.93150655e-01  9.54185982e-01 -1.28792043e+00 -1.25804494e+00]\n",
            " [-1.13189260e+00 -1.57389387e+00 -2.22331521e-01 -2.13366288e-01]\n",
            " [ 1.81188080e-01  7.24360541e-01  4.50672002e-01  5.70142704e-01]\n",
            " [ 1.85238167e+00 -6.54592104e-01  1.34801003e+00  9.61897200e-01]\n",
            " [ 7.78042933e-01 -1.94941222e-01  1.01150827e+00  8.31312368e-01]\n",
            " [-1.25126357e+00 -1.94941222e-01 -1.28792043e+00 -1.12746011e+00]\n",
            " [ 6.58671963e-01  2.64709660e-01  4.50672002e-01  4.39557872e-01]\n",
            " [ 6.58671963e-01 -8.84417545e-01  8.99341018e-01  9.61897200e-01]\n",
            " [-8.93150655e-01 -1.34406843e+00 -3.90582402e-01 -8.27814560e-02]\n",
            " [-8.93150655e-01  4.94535101e-01 -1.11966955e+00 -8.66290448e-01]\n",
            " [-1.01252163e+00  2.64709660e-01 -1.40008769e+00 -1.25804494e+00]\n",
            " [ 5.39300992e-01  4.94535101e-01  5.62839256e-01  5.70142704e-01]\n",
            " [ 7.78042933e-01  2.64709660e-01  7.87173764e-01  1.09248203e+00]\n",
            " [ 1.81188080e-01 -4.24766663e-01  4.50672002e-01  4.39557872e-01]\n",
            " [ 1.01678487e+00 -1.94941222e-01  8.43257391e-01  1.48423653e+00]\n",
            " [ 2.21049458e+00 -6.54592104e-01  1.68451180e+00  1.09248203e+00]\n",
            " [-7.73779684e-01  7.24360541e-01 -1.28792043e+00 -1.25804494e+00]\n",
            " [-8.93150655e-01  1.41383686e+00 -1.23183681e+00 -9.96875280e-01]\n",
            " [-1.84811842e+00 -1.94941222e-01 -1.45617131e+00 -1.38862978e+00]\n",
            " [-1.49000551e+00  3.48842187e-02 -1.23183681e+00 -1.25804494e+00]\n",
            " [ 6.58671963e-01 -4.24766663e-01  3.38504748e-01  1.78388208e-01]\n",
            " [-8.93150655e-01  7.24360541e-01 -1.23183681e+00 -1.25804494e+00]\n",
            " [ 6.58671963e-01 -6.54592104e-01  1.06759190e+00  1.22306686e+00]\n",
            " [-2.96295802e-01 -8.84417545e-01  2.82421121e-01  1.78388208e-01]\n",
            " [-4.15666773e-01  9.54185982e-01 -1.34400406e+00 -1.25804494e+00]\n",
            " [-4.15666773e-01 -1.11424299e+00  3.94588375e-01  4.78033760e-02]\n",
            " [ 5.39300992e-01 -6.54592104e-01  7.87173764e-01  4.39557872e-01]\n",
            " [-5.35037743e-01  1.87348775e+00 -1.34400406e+00 -9.96875280e-01]\n",
            " [ 1.01678487e+00  4.94535101e-01  1.12367553e+00  1.22306686e+00]\n",
            " [ 1.73301070e+00 -4.24766663e-01  1.46017729e+00  8.31312368e-01]\n",
            " [-8.93150655e-01  1.64366231e+00 -1.00750230e+00 -9.96875280e-01]\n",
            " [-1.72874745e+00  2.64709660e-01 -1.34400406e+00 -1.25804494e+00]\n",
            " [-1.01252163e+00 -2.49319563e+00 -1.10164267e-01 -2.13366288e-01]\n",
            " [-1.13189260e+00  3.48842187e-02 -1.23183681e+00 -1.38862978e+00]\n",
            " [ 5.39300992e-01 -8.84417545e-01  6.75006510e-01  8.31312368e-01]\n",
            " [ 1.01678487e+00  4.94535101e-01  1.12367553e+00  1.74540619e+00]\n",
            " [ 1.81188080e-01 -2.03354475e+00  1.70253868e-01 -2.13366288e-01]\n",
            " [-1.76924831e-01 -4.24766663e-01  2.82421121e-01  1.78388208e-01]\n",
            " [ 5.39300992e-01  7.24360541e-01  1.06759190e+00  1.61482136e+00]\n",
            " [ 3.00559051e-01 -6.54592104e-01  1.70253868e-01  1.78388208e-01]\n",
            " [-6.54408714e-01  1.41383686e+00 -1.23183681e+00 -1.25804494e+00]\n",
            " [-5.75538608e-02 -8.84417545e-01  2.26337494e-01 -2.13366288e-01]\n",
            " [ 2.44923652e+00  1.64366231e+00  1.51626091e+00  1.09248203e+00]\n",
            " [-4.15666773e-01 -1.80371931e+00  1.70253868e-01  1.78388208e-01]\n",
            " [-1.01252163e+00  7.24360541e-01 -1.17575318e+00 -9.96875280e-01]\n",
            " [ 1.61363973e+00  1.18401142e+00  1.34801003e+00  1.74540619e+00]\n",
            " [-1.37063454e+00  2.64709660e-01 -1.34400406e+00 -1.25804494e+00]\n",
            " [ 1.49426876e+00 -1.94941222e-01  1.23584278e+00  1.22306686e+00]\n",
            " [ 1.25552682e+00  2.64709660e-01  1.12367553e+00  1.48423653e+00]\n",
            " [-8.93150655e-01  9.54185982e-01 -1.28792043e+00 -1.12746011e+00]\n",
            " [ 3.00559051e-01 -1.94941222e-01  5.06755629e-01  3.08973040e-01]\n",
            " [-1.13189260e+00  3.48842187e-02 -1.23183681e+00 -1.38862978e+00]\n",
            " [ 1.25552682e+00  3.48842187e-02  6.75006510e-01  4.39557872e-01]\n",
            " [ 6.58671963e-01  3.48842187e-02  1.01150827e+00  8.31312368e-01]] \n",
            "\n",
            "           Standard values for X_test : \n",
            " [[-1.56082574  0.57763559 -1.52154099 -1.49940547]\n",
            " [-1.05280537  1.06541676 -1.46168741 -1.49940547]\n",
            " [ 0.47125574 -1.86127024  0.33391997  0.26839   ]\n",
            " [ 0.21724555 -1.86127024  0.63318786  0.26839   ]\n",
            " [ 0.47125574  1.06541676  0.87260218  1.35626414]\n",
            " [ 2.37633212  2.04097909  1.65069871  1.22027987]\n",
            " [ 0.34425064  0.08985443  0.57333429  0.6763428 ]\n",
            " [ 0.85227101 -0.39792674  0.39377355  0.26839   ]\n",
            " [-1.56082574  1.06541676 -1.52154099 -1.36342121]\n",
            " [-1.81483592 -0.15403616 -1.52154099 -1.49940547]\n",
            " [-1.56082574  1.55319792 -1.76095531 -1.49940547]\n",
            " [-0.16376972 -0.88570791 -0.26461582 -0.41153134]\n",
            " [-1.68783083 -1.61737966 -1.58139457 -1.36342121]\n",
            " [ 1.36029138  0.33374501  0.69304144  1.35626414]\n",
            " [ 1.74130666  0.08985443  1.1120165   0.40437427]\n",
            " [-0.29077482 -1.12959849 -0.02520151 -0.27554707]\n",
            " [ 0.34425064 -0.15403616  0.45362713  0.13240573]\n",
            " [ 0.72526592 -0.39792674  0.99230934  1.22027987]\n",
            " [-0.544785    1.06541676 -1.46168741 -1.22743694]\n",
            " [-0.16376972 -0.39792674  0.33391997 -0.00357853]\n",
            " [-0.16376972 -1.12959849  0.63318786  0.94831134]\n",
            " [ 1.1062812   0.33374501  0.45362713  0.26839   ]\n",
            " [-0.03676463  2.52876026 -1.64124815 -1.49940547]\n",
            " [-1.30681555  0.33374501 -1.40183383 -1.49940547]\n",
            " [ 1.23328629  0.08985443  0.93245576  1.08429561]\n",
            " [ 0.59826083  0.82152618  1.23172366  1.62823268]\n",
            " [-1.43382065  0.57763559 -1.40183383 -1.49940547]\n",
            " [ 0.34425064 -0.39792674  0.45362713 -0.1395628 ]\n",
            " [ 0.59826083 -0.15403616  0.99230934  0.6763428 ]\n",
            " [ 0.85227101  0.08985443  1.1120165   1.22027987]\n",
            " [ 0.47125574 -0.39792674  0.51348071  0.6763428 ]\n",
            " [ 0.21724555  0.08985443  0.51348071  0.6763428 ]\n",
            " [-0.41777991 -1.37348907 -0.08505509 -0.27554707]\n",
            " [ 0.09024046  0.57763559  0.51348071  0.6763428 ]\n",
            " [-1.05280537 -1.61737966 -0.38432298 -0.41153134]\n",
            " [ 0.85227101  0.08985443  0.75289502  0.94831134]\n",
            " [-0.29077482 -0.15403616 -0.20476224 -0.00357853]\n",
            " [-0.16376972 -0.39792674  0.09450565 -0.00357853]]\n"
          ]
        }
      ]
    },
    {
      "cell_type": "markdown",
      "source": [
        "**Part D** - Train Model using SKLearn LogisticRegression"
      ],
      "metadata": {
        "id": "E9BlQYh54lLX"
      }
    },
    {
      "cell_type": "code",
      "source": [
        "LogisticRegression=LogisticRegression() #  built-in function call\n",
        "LogisticRegression.fit(X_train,y_train) # fit function call"
      ],
      "metadata": {
        "id": "hD_MUVu64xkw",
        "colab": {
          "base_uri": "https://localhost:8080/"
        },
        "outputId": "11bf32e1-acc8-42ee-d8cd-cfa37030a29d"
      },
      "execution_count": null,
      "outputs": [
        {
          "output_type": "execute_result",
          "data": {
            "text/plain": [
              "LogisticRegression()"
            ]
          },
          "metadata": {},
          "execution_count": 82
        }
      ]
    },
    {
      "cell_type": "markdown",
      "source": [
        "**Part E** - Predict Labels for test split"
      ],
      "metadata": {
        "id": "-HKhBOzW4xSx"
      }
    },
    {
      "cell_type": "code",
      "source": [
        "y_predicted = LogisticRegression.predict(X_test) # label prediction as required\n",
        "print(y_predicted) # printing lables"
      ],
      "metadata": {
        "id": "IqpPKB1M5G4G",
        "colab": {
          "base_uri": "https://localhost:8080/"
        },
        "outputId": "02c24f2a-c661-44d0-8aa8-a7052ef225a5"
      },
      "execution_count": null,
      "outputs": [
        {
          "output_type": "stream",
          "name": "stdout",
          "text": [
            "['hibiscus' 'hibiscus' 'daffodil' 'daffodil' 'lily' 'lily' 'daffodil'\n",
            " 'daffodil' 'hibiscus' 'hibiscus' 'hibiscus' 'daffodil' 'hibiscus' 'lily'\n",
            " 'daffodil' 'daffodil' 'daffodil' 'lily' 'hibiscus' 'daffodil' 'lily'\n",
            " 'daffodil' 'hibiscus' 'hibiscus' 'lily' 'lily' 'hibiscus' 'daffodil'\n",
            " 'lily' 'lily' 'daffodil' 'daffodil' 'daffodil' 'daffodil' 'daffodil'\n",
            " 'lily' 'daffodil' 'daffodil']\n"
          ]
        }
      ]
    },
    {
      "cell_type": "markdown",
      "source": [
        "---\n",
        "## Question 3\n",
        "\n",
        "Confusion Matrix Construction\n",
        "\n",
        "---"
      ],
      "metadata": {
        "id": "34It-TAowlCw"
      }
    },
    {
      "cell_type": "markdown",
      "source": [
        "**Part A** - Using the prediction result of logistic regression (Question 2) construct a confusion matrix using SKLearn confusion_matrix\n",
        "\n",
        "Print out this confusion matrix"
      ],
      "metadata": {
        "id": "vi_ix0XsxF8x"
      }
    },
    {
      "cell_type": "code",
      "source": [
        "matrix= metrics.confusion_matrix(y_test, y_predicted) # data insertion for confusion matrix\n",
        "sns.heatmap(matrix, annot=True, cmap=\"inferno\") # visualising confusion matrix using seaborn library\n",
        "plt.title('Confusion matrix',size=15,weight='bold') # title\n",
        "plt.ylabel('Actual label',size=12,weight='bold') # x-lable\n",
        "plt.xlabel('Predicted label',size=12,weight='bold') # y-lable"
      ],
      "metadata": {
        "id": "o23T4fDsxD-L",
        "colab": {
          "base_uri": "https://localhost:8080/",
          "height": 317
        },
        "outputId": "1d49bbef-73eb-4f5b-c454-c0fc7596332a"
      },
      "execution_count": null,
      "outputs": [
        {
          "output_type": "execute_result",
          "data": {
            "text/plain": [
              "Text(0.5, 15.0, 'Predicted label')"
            ]
          },
          "metadata": {},
          "execution_count": 84
        },
        {
          "output_type": "display_data",
          "data": {
            "text/plain": [
              "<Figure size 432x288 with 2 Axes>"
            ],
            "image/png": "[encoded data removed]"
          },
          "metadata": {
            "needs_background": "light"
          }
        }
      ]
    },
    {
      "cell_type": "markdown",
      "source": [
        "**Part B** - Calculate and print Accuracy"
      ],
      "metadata": {
        "id": "JlYB9BY4xEh1"
      }
    },
    {
      "cell_type": "code",
      "source": [
        "accuracy=balanced_accuracy_score(y_test, y_predicted) # built-in function call \n",
        "accuracy=accuracy*100\n",
        "print(f'Accuracy of the model is -> {accuracy}') #printing accuracy as required"
      ],
      "metadata": {
        "id": "cupearHPxUKj",
        "colab": {
          "base_uri": "https://localhost:8080/"
        },
        "outputId": "7989f313-6ce7-433e-8708-d332d2af8661"
      },
      "execution_count": null,
      "outputs": [
        {
          "output_type": "stream",
          "name": "stdout",
          "text": [
            "Accuracy of the model is -> 88.88888888888889\n"
          ]
        }
      ]
    },
    {
      "cell_type": "markdown",
      "source": [
        "**Part C** - Calculate and print Recall"
      ],
      "metadata": {
        "id": "RvEXBB3CxUk-"
      }
    },
    {
      "cell_type": "code",
      "source": [
        "recall=recall_score(y_test,y_predicted,average=None) # built-in function call\n",
        "print(f'Recall of the model is -> {recall}') #printing recall as required"
      ],
      "metadata": {
        "id": "PyBufaj8xbKC",
        "colab": {
          "base_uri": "https://localhost:8080/"
        },
        "outputId": "d2706360-e945-41aa-8889-625d0bfaa8da"
      },
      "execution_count": null,
      "outputs": [
        {
          "output_type": "stream",
          "name": "stdout",
          "text": [
            "Recall of the model is -> [1.         1.         0.66666667]\n"
          ]
        }
      ]
    },
    {
      "cell_type": "markdown",
      "source": [
        "**Part D** - Calculate and print Precision"
      ],
      "metadata": {
        "id": "W6BgzGjMxbfu"
      }
    },
    {
      "cell_type": "code",
      "source": [
        "precision=precision_score(y_test,y_predicted,average=None) # built-in function call\n",
        "print(f'Precision of the model is -> {precision}') #printing precision as required"
      ],
      "metadata": {
        "id": "gHJg8C-1xg_6",
        "colab": {
          "base_uri": "https://localhost:8080/"
        },
        "outputId": "b578ac4f-4fdd-478e-ef3b-4721a89bf962"
      },
      "execution_count": null,
      "outputs": [
        {
          "output_type": "stream",
          "name": "stdout",
          "text": [
            "Precision of the model is -> [0.72222222 1.         1.        ]\n"
          ]
        }
      ]
    },
    {
      "cell_type": "markdown",
      "source": [
        "**Part E** - Calculate and print $𝐹_1$ Score"
      ],
      "metadata": {
        "id": "6RPHz7hVxhbk"
      }
    },
    {
      "cell_type": "code",
      "source": [
        "fscore=f1_score(y_test,y_predicted,average=None) # built-in function call\n",
        "print(f'F-score of the model is -> {fscore}') #printing fscore as required"
      ],
      "metadata": {
        "id": "NmwjCpMixmeJ",
        "colab": {
          "base_uri": "https://localhost:8080/"
        },
        "outputId": "e673cc93-82b6-4710-c458-138b8e351a99"
      },
      "execution_count": null,
      "outputs": [
        {
          "output_type": "stream",
          "name": "stdout",
          "text": [
            "F-score of the model is -> [0.83870968 1.         0.8       ]\n"
          ]
        }
      ]
    }
  ],
  "metadata": {
    "celltoolbar": "Slideshow",
    "kernelspec": {
      "display_name": "Python 3",
      "language": "python",
      "name": "python3"
    },
    "language_info": {
      "codemirror_mode": {
        "name": "ipython",
        "version": 3
      },
      "file_extension": ".py",
      "mimetype": "text/x-python",
      "name": "python",
      "nbconvert_exporter": "python",
      "pygments_lexer": "ipython3",
      "version": "3.5.1"
    },
    "colab": {
      "provenance": [],
      "collapsed_sections": []
    }
  },
  "nbformat": 4,
  "nbformat_minor": 0
}